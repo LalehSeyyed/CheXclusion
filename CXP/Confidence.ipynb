{
 "cells": [
  {
   "cell_type": "code",
   "execution_count": 2,
   "metadata": {},
   "outputs": [],
   "source": [
    "import pandas as pd\n",
    "import numpy as np\n",
    "import matplotlib.pyplot as plt\n",
    "from statistics import mean"
   ]
  },
  {
   "cell_type": "code",
   "execution_count": 2,
   "metadata": {},
   "outputs": [],
   "source": [
    "train_df_path =\"/scratch/gobi2/projects/ml4h/datasets/CheXpert/split/July19/new_train.csv\"\n",
    "test_df_path =\"/scratch/gobi2/projects/ml4h/datasets/CheXpert/split/July19/new_test.csv\"\n",
    "val_df_path = \"/scratch/gobi2/projects/ml4h/datasets/CheXpert/split/July19/new_valid.csv\"\n",
    "\n",
    "val_df = pd.read_csv(val_df_path)\n",
    "train_df = pd.read_csv(train_df_path)\n",
    "test_df = pd.read_csv(test_df_path)"
   ]
  },
  {
   "cell_type": "code",
   "execution_count": 3,
   "metadata": {},
   "outputs": [],
   "source": [
    "WholeData = test_df.append([val_df, train_df])"
   ]
  },
  {
   "cell_type": "code",
   "execution_count": 5,
   "metadata": {},
   "outputs": [
    {
     "data": {
      "text/html": [
       "<div>\n",
       "<style scoped>\n",
       "    .dataframe tbody tr th:only-of-type {\n",
       "        vertical-align: middle;\n",
       "    }\n",
       "\n",
       "    .dataframe tbody tr th {\n",
       "        vertical-align: top;\n",
       "    }\n",
       "\n",
       "    .dataframe thead tr th {\n",
       "        text-align: left;\n",
       "    }\n",
       "\n",
       "    .dataframe thead tr:last-of-type th {\n",
       "        text-align: right;\n",
       "    }\n",
       "</style>\n",
       "<table border=\"1\" class=\"dataframe\">\n",
       "  <thead>\n",
       "    <tr>\n",
       "      <th></th>\n",
       "      <th colspan=\"8\" halign=\"left\">subject_id</th>\n",
       "      <th colspan=\"2\" halign=\"left\">Age</th>\n",
       "      <th>...</th>\n",
       "      <th colspan=\"2\" halign=\"left\">Fracture</th>\n",
       "      <th colspan=\"8\" halign=\"left\">Support Devices</th>\n",
       "    </tr>\n",
       "    <tr>\n",
       "      <th></th>\n",
       "      <th>count</th>\n",
       "      <th>mean</th>\n",
       "      <th>std</th>\n",
       "      <th>min</th>\n",
       "      <th>25%</th>\n",
       "      <th>50%</th>\n",
       "      <th>75%</th>\n",
       "      <th>max</th>\n",
       "      <th>count</th>\n",
       "      <th>mean</th>\n",
       "      <th>...</th>\n",
       "      <th>75%</th>\n",
       "      <th>max</th>\n",
       "      <th>count</th>\n",
       "      <th>mean</th>\n",
       "      <th>std</th>\n",
       "      <th>min</th>\n",
       "      <th>25%</th>\n",
       "      <th>50%</th>\n",
       "      <th>75%</th>\n",
       "      <th>max</th>\n",
       "    </tr>\n",
       "    <tr>\n",
       "      <th>Sex</th>\n",
       "      <th></th>\n",
       "      <th></th>\n",
       "      <th></th>\n",
       "      <th></th>\n",
       "      <th></th>\n",
       "      <th></th>\n",
       "      <th></th>\n",
       "      <th></th>\n",
       "      <th></th>\n",
       "      <th></th>\n",
       "      <th></th>\n",
       "      <th></th>\n",
       "      <th></th>\n",
       "      <th></th>\n",
       "      <th></th>\n",
       "      <th></th>\n",
       "      <th></th>\n",
       "      <th></th>\n",
       "      <th></th>\n",
       "      <th></th>\n",
       "      <th></th>\n",
       "    </tr>\n",
       "  </thead>\n",
       "  <tbody>\n",
       "    <tr>\n",
       "      <th>Female</th>\n",
       "      <td>90883.0</td>\n",
       "      <td>28542.329699</td>\n",
       "      <td>16801.738657</td>\n",
       "      <td>1.0</td>\n",
       "      <td>14300.0</td>\n",
       "      <td>28324.0</td>\n",
       "      <td>40920.0</td>\n",
       "      <td>64739.0</td>\n",
       "      <td>90883.0</td>\n",
       "      <td>61.226467</td>\n",
       "      <td>...</td>\n",
       "      <td>1.0</td>\n",
       "      <td>1.0</td>\n",
       "      <td>48739.0</td>\n",
       "      <td>0.937381</td>\n",
       "      <td>0.269539</td>\n",
       "      <td>-1.0</td>\n",
       "      <td>1.0</td>\n",
       "      <td>1.0</td>\n",
       "      <td>1.0</td>\n",
       "      <td>1.0</td>\n",
       "    </tr>\n",
       "    <tr>\n",
       "      <th>Male</th>\n",
       "      <td>132764.0</td>\n",
       "      <td>26501.328500</td>\n",
       "      <td>16054.829931</td>\n",
       "      <td>3.0</td>\n",
       "      <td>13131.0</td>\n",
       "      <td>25821.0</td>\n",
       "      <td>37852.0</td>\n",
       "      <td>64740.0</td>\n",
       "      <td>132764.0</td>\n",
       "      <td>59.886716</td>\n",
       "      <td>...</td>\n",
       "      <td>1.0</td>\n",
       "      <td>1.0</td>\n",
       "      <td>74712.0</td>\n",
       "      <td>0.928124</td>\n",
       "      <td>0.294098</td>\n",
       "      <td>-1.0</td>\n",
       "      <td>1.0</td>\n",
       "      <td>1.0</td>\n",
       "      <td>1.0</td>\n",
       "      <td>1.0</td>\n",
       "    </tr>\n",
       "    <tr>\n",
       "      <th>Unknown</th>\n",
       "      <td>1.0</td>\n",
       "      <td>33093.000000</td>\n",
       "      <td>NaN</td>\n",
       "      <td>33093.0</td>\n",
       "      <td>33093.0</td>\n",
       "      <td>33093.0</td>\n",
       "      <td>33093.0</td>\n",
       "      <td>33093.0</td>\n",
       "      <td>1.0</td>\n",
       "      <td>34.000000</td>\n",
       "      <td>...</td>\n",
       "      <td>NaN</td>\n",
       "      <td>NaN</td>\n",
       "      <td>0.0</td>\n",
       "      <td>NaN</td>\n",
       "      <td>NaN</td>\n",
       "      <td>NaN</td>\n",
       "      <td>NaN</td>\n",
       "      <td>NaN</td>\n",
       "      <td>NaN</td>\n",
       "      <td>NaN</td>\n",
       "    </tr>\n",
       "  </tbody>\n",
       "</table>\n",
       "<p>3 rows × 128 columns</p>\n",
       "</div>"
      ],
      "text/plain": [
       "        subject_id                                                         \\\n",
       "             count          mean           std      min      25%      50%   \n",
       "Sex                                                                         \n",
       "Female     90883.0  28542.329699  16801.738657      1.0  14300.0  28324.0   \n",
       "Male      132764.0  26501.328500  16054.829931      3.0  13131.0  25821.0   \n",
       "Unknown        1.0  33093.000000           NaN  33093.0  33093.0  33093.0   \n",
       "\n",
       "                                Age             ... Fracture       \\\n",
       "             75%      max     count       mean  ...      75%  max   \n",
       "Sex                                             ...                 \n",
       "Female   40920.0  64739.0   90883.0  61.226467  ...      1.0  1.0   \n",
       "Male     37852.0  64740.0  132764.0  59.886716  ...      1.0  1.0   \n",
       "Unknown  33093.0  33093.0       1.0  34.000000  ...      NaN  NaN   \n",
       "\n",
       "        Support Devices                                               \n",
       "                  count      mean       std  min  25%  50%  75%  max  \n",
       "Sex                                                                   \n",
       "Female          48739.0  0.937381  0.269539 -1.0  1.0  1.0  1.0  1.0  \n",
       "Male            74712.0  0.928124  0.294098 -1.0  1.0  1.0  1.0  1.0  \n",
       "Unknown             0.0       NaN       NaN  NaN  NaN  NaN  NaN  NaN  \n",
       "\n",
       "[3 rows x 128 columns]"
      ]
     },
     "execution_count": 5,
     "metadata": {},
     "output_type": "execute_result"
    }
   ],
   "source": [
    "WholeDataX =WholeData.groupby(\"Sex\")\n",
    "WholeDataX_df = WholeDataX.describe()\n",
    "WholeDataX_df"
   ]
  },
  {
   "cell_type": "code",
   "execution_count": 6,
   "metadata": {},
   "outputs": [
    {
     "name": "stdout",
     "output_type": "stream",
     "text": [
      "Number of images: 223648\n",
      "Number of unique patients: 64740\n"
     ]
    }
   ],
   "source": [
    "print(\"Number of images:\",len(WholeData) )\n",
    "Whole =WholeData.groupby(\"subject_id\")\n",
    "print(\"Number of unique patients:\",len(Whole.count()) )"
   ]
  },
  {
   "cell_type": "code",
   "execution_count": 7,
   "metadata": {},
   "outputs": [
    {
     "name": "stdout",
     "output_type": "stream",
     "text": [
      "Male Percent:   59.3631928887935\n",
      "female Percent:   40.6368071112065\n",
      "#images 223647.0\n"
     ]
    }
   ],
   "source": [
    "dfWhole_Sex = WholeDataX_df[\"subject_id\"]['count']\n",
    "total_CXP= dfWhole_Sex[\"Female\"]+dfWhole_Sex[\"Male\"]\n",
    "Male_percent = 100*dfWhole_Sex[\"Male\"]/total_CXP\n",
    "print(\"Male Percent:  \",Male_percent)\n",
    "\n",
    "print(\"female Percent:  \",100*dfWhole_Sex[\"Female\"]/total_CXP)\n",
    "print(\"#images\",total_CXP) "
   ]
  },
  {
   "cell_type": "code",
   "execution_count": 8,
   "metadata": {},
   "outputs": [
    {
     "name": "stdout",
     "output_type": "stream",
     "text": [
      "male 59.35898046273307\n",
      "0-20 0.8679403459033244\n",
      "40-60 31.001037432858013\n"
     ]
    }
   ],
   "source": [
    "print(\"male\",.8*59.2435184354535 + 0.1*(60.5638085309704  + 59.0778486127323))\n",
    "print(\"0-20\",.8*0.867946532699381 + 0.1*( 0.716705759708105 + 1.01912543773009))\n",
    "print(\"40-60\",.8*30.8726563200861 + 0.1*(32.3386326122839 + 30.6904911556074 ))"
   ]
  },
  {
   "cell_type": "code",
   "execution_count": 9,
   "metadata": {},
   "outputs": [
    {
     "data": {
      "text/plain": [
       "Male       132764\n",
       "Female      90883\n",
       "Unknown         1\n",
       "Name: Sex, dtype: int64"
      ]
     },
     "execution_count": 9,
     "metadata": {},
     "output_type": "execute_result"
    }
   ],
   "source": [
    "WholeData['Sex'].value_counts()"
   ]
  },
  {
   "cell_type": "code",
   "execution_count": 10,
   "metadata": {},
   "outputs": [],
   "source": [
    "WholeData_020= WholeData[(WholeData['Age'] >= 0) & (WholeData['Age'] <= 19)]\n",
    "WholeData_2040= WholeData[(WholeData['Age'] >= 20) & (WholeData['Age'] <= 39)]\n",
    "WholeData_4060= WholeData[(WholeData['Age'] >= 40) & (WholeData['Age'] <= 59)]\n",
    "WholeData_6080= WholeData[(WholeData['Age'] >= 60) & (WholeData['Age'] <= 79)]\n",
    "WholeData_80= WholeData[(WholeData['Age'] >= 80) ]\n",
    "totalAgeCXP=len(WholeData_020)+len(WholeData_2040)+len(WholeData_4060)+len(WholeData_6080)+len(WholeData_80)\n"
   ]
  },
  {
   "cell_type": "code",
   "execution_count": 11,
   "metadata": {},
   "outputs": [
    {
     "name": "stdout",
     "output_type": "stream",
     "text": [
      "'0-20' Percent:   0.8674345399914151\n",
      "'20-40' Percent:   13.178745170982973\n",
      "'40-60' Percent:   31.005419230218916\n",
      "'60-80' Percent:   38.93752682787237\n",
      "'80-' Percent:   16.010874230934327\n"
     ]
    },
    {
     "data": {
      "text/plain": [
       "100.00000000000001"
      ]
     },
     "execution_count": 11,
     "metadata": {},
     "output_type": "execute_result"
    }
   ],
   "source": [
    "print(\"'0-20' Percent:  \",100*len(WholeData_020)/totalAgeCXP)\n",
    "print(\"'20-40' Percent:  \",100*len(WholeData_2040)/totalAgeCXP)\n",
    "print(\"'40-60' Percent:  \",100*len(WholeData_4060)/totalAgeCXP)\n",
    "print(\"'60-80' Percent:  \",100*len(WholeData_6080)/totalAgeCXP)\n",
    "print(\"'80-' Percent:  \",100*len(WholeData_80)/totalAgeCXP)\n",
    "16.010874230934327+38.93752682787237+31.005419230218916+13.178745170982973+0.8674345399914151"
   ]
  },
  {
   "cell_type": "markdown",
   "metadata": {},
   "source": [
    "## AUC over 5 runs"
   ]
  },
  {
   "cell_type": "code",
   "execution_count": 11,
   "metadata": {},
   "outputs": [],
   "source": [
    "Eval5 = pd.read_csv(\"./results90/Eval5.csv\")\n",
    "Eval4= pd.read_csv(\"./results56/Eval4.csv\")\n",
    "Eval3 = pd.read_csv(\"./results60/Eval3.csv\")\n",
    "Eval2 = pd.read_csv(\"./results32/Eval2.csv\")\n",
    "Eval1 = pd.read_csv(\"./results40/Eval1.csv\")"
   ]
  },
  {
   "cell_type": "code",
   "execution_count": 12,
   "metadata": {},
   "outputs": [
    {
     "data": {
      "text/html": [
       "<div>\n",
       "<style scoped>\n",
       "    .dataframe tbody tr th:only-of-type {\n",
       "        vertical-align: middle;\n",
       "    }\n",
       "\n",
       "    .dataframe tbody tr th {\n",
       "        vertical-align: top;\n",
       "    }\n",
       "\n",
       "    .dataframe thead th {\n",
       "        text-align: right;\n",
       "    }\n",
       "</style>\n",
       "<table border=\"1\" class=\"dataframe\">\n",
       "  <thead>\n",
       "    <tr style=\"text-align: right;\">\n",
       "      <th></th>\n",
       "      <th>label</th>\n",
       "      <th>auc</th>\n",
       "      <th>auc2</th>\n",
       "      <th>auc3</th>\n",
       "      <th>auc4</th>\n",
       "      <th>auc5</th>\n",
       "    </tr>\n",
       "  </thead>\n",
       "  <tbody>\n",
       "    <tr>\n",
       "      <th>0</th>\n",
       "      <td>Atelectasis</td>\n",
       "      <td>0.720365</td>\n",
       "      <td>0.715928</td>\n",
       "      <td>0.718171</td>\n",
       "      <td>0.713666</td>\n",
       "      <td>0.714693</td>\n",
       "    </tr>\n",
       "    <tr>\n",
       "      <th>1</th>\n",
       "      <td>Cardiomegaly</td>\n",
       "      <td>0.859103</td>\n",
       "      <td>0.851215</td>\n",
       "      <td>0.853831</td>\n",
       "      <td>0.853837</td>\n",
       "      <td>0.855616</td>\n",
       "    </tr>\n",
       "    <tr>\n",
       "      <th>2</th>\n",
       "      <td>Consolidation</td>\n",
       "      <td>0.727193</td>\n",
       "      <td>0.739166</td>\n",
       "      <td>0.735278</td>\n",
       "      <td>0.733905</td>\n",
       "      <td>0.732627</td>\n",
       "    </tr>\n",
       "    <tr>\n",
       "      <th>3</th>\n",
       "      <td>Edema</td>\n",
       "      <td>0.851038</td>\n",
       "      <td>0.848742</td>\n",
       "      <td>0.848904</td>\n",
       "      <td>0.849033</td>\n",
       "      <td>0.849709</td>\n",
       "    </tr>\n",
       "    <tr>\n",
       "      <th>4</th>\n",
       "      <td>Enlarged Cardiomediastinum</td>\n",
       "      <td>0.671346</td>\n",
       "      <td>0.669978</td>\n",
       "      <td>0.659423</td>\n",
       "      <td>0.664492</td>\n",
       "      <td>0.672906</td>\n",
       "    </tr>\n",
       "    <tr>\n",
       "      <th>5</th>\n",
       "      <td>Fracture</td>\n",
       "      <td>0.798799</td>\n",
       "      <td>0.792178</td>\n",
       "      <td>0.793733</td>\n",
       "      <td>0.785515</td>\n",
       "      <td>0.780774</td>\n",
       "    </tr>\n",
       "    <tr>\n",
       "      <th>6</th>\n",
       "      <td>Lung Lesion</td>\n",
       "      <td>0.782447</td>\n",
       "      <td>0.783540</td>\n",
       "      <td>0.785039</td>\n",
       "      <td>0.777160</td>\n",
       "      <td>0.772248</td>\n",
       "    </tr>\n",
       "    <tr>\n",
       "      <th>7</th>\n",
       "      <td>Lung Opacity</td>\n",
       "      <td>0.745316</td>\n",
       "      <td>0.745377</td>\n",
       "      <td>0.746559</td>\n",
       "      <td>0.747421</td>\n",
       "      <td>0.748150</td>\n",
       "    </tr>\n",
       "    <tr>\n",
       "      <th>8</th>\n",
       "      <td>No Finding</td>\n",
       "      <td>0.883814</td>\n",
       "      <td>0.884147</td>\n",
       "      <td>0.886198</td>\n",
       "      <td>0.886621</td>\n",
       "      <td>0.885524</td>\n",
       "    </tr>\n",
       "    <tr>\n",
       "      <th>9</th>\n",
       "      <td>Pleural Effusion</td>\n",
       "      <td>0.886571</td>\n",
       "      <td>0.884971</td>\n",
       "      <td>0.885949</td>\n",
       "      <td>0.883800</td>\n",
       "      <td>0.886200</td>\n",
       "    </tr>\n",
       "    <tr>\n",
       "      <th>10</th>\n",
       "      <td>Pleural Other</td>\n",
       "      <td>0.800564</td>\n",
       "      <td>0.791897</td>\n",
       "      <td>0.789355</td>\n",
       "      <td>0.798567</td>\n",
       "      <td>0.794461</td>\n",
       "    </tr>\n",
       "    <tr>\n",
       "      <th>11</th>\n",
       "      <td>Pneumonia</td>\n",
       "      <td>0.774152</td>\n",
       "      <td>0.777999</td>\n",
       "      <td>0.775822</td>\n",
       "      <td>0.781304</td>\n",
       "      <td>0.773821</td>\n",
       "    </tr>\n",
       "    <tr>\n",
       "      <th>12</th>\n",
       "      <td>Pneumothorax</td>\n",
       "      <td>0.891883</td>\n",
       "      <td>0.891856</td>\n",
       "      <td>0.895633</td>\n",
       "      <td>0.889308</td>\n",
       "      <td>0.894084</td>\n",
       "    </tr>\n",
       "    <tr>\n",
       "      <th>13</th>\n",
       "      <td>Support Devices</td>\n",
       "      <td>0.900364</td>\n",
       "      <td>0.896273</td>\n",
       "      <td>0.898658</td>\n",
       "      <td>0.898607</td>\n",
       "      <td>0.897314</td>\n",
       "    </tr>\n",
       "  </tbody>\n",
       "</table>\n",
       "</div>"
      ],
      "text/plain": [
       "                         label       auc      auc2      auc3      auc4  \\\n",
       "0                  Atelectasis  0.720365  0.715928  0.718171  0.713666   \n",
       "1                 Cardiomegaly  0.859103  0.851215  0.853831  0.853837   \n",
       "2                Consolidation  0.727193  0.739166  0.735278  0.733905   \n",
       "3                        Edema  0.851038  0.848742  0.848904  0.849033   \n",
       "4   Enlarged Cardiomediastinum  0.671346  0.669978  0.659423  0.664492   \n",
       "5                     Fracture  0.798799  0.792178  0.793733  0.785515   \n",
       "6                  Lung Lesion  0.782447  0.783540  0.785039  0.777160   \n",
       "7                 Lung Opacity  0.745316  0.745377  0.746559  0.747421   \n",
       "8                   No Finding  0.883814  0.884147  0.886198  0.886621   \n",
       "9             Pleural Effusion  0.886571  0.884971  0.885949  0.883800   \n",
       "10               Pleural Other  0.800564  0.791897  0.789355  0.798567   \n",
       "11                   Pneumonia  0.774152  0.777999  0.775822  0.781304   \n",
       "12                Pneumothorax  0.891883  0.891856  0.895633  0.889308   \n",
       "13             Support Devices  0.900364  0.896273  0.898658  0.898607   \n",
       "\n",
       "        auc5  \n",
       "0   0.714693  \n",
       "1   0.855616  \n",
       "2   0.732627  \n",
       "3   0.849709  \n",
       "4   0.672906  \n",
       "5   0.780774  \n",
       "6   0.772248  \n",
       "7   0.748150  \n",
       "8   0.885524  \n",
       "9   0.886200  \n",
       "10  0.794461  \n",
       "11  0.773821  \n",
       "12  0.894084  \n",
       "13  0.897314  "
      ]
     },
     "execution_count": 12,
     "metadata": {},
     "output_type": "execute_result"
    }
   ],
   "source": [
    "Evalall = Eval1[['label','auc']]\n",
    "\n",
    "Evalall[\"auc2\"]=Eval2['auc']\n",
    "Evalall[\"auc3\"]=Eval3['auc']\n",
    "Evalall[\"auc4\"]=Eval4['auc']\n",
    "Evalall[\"auc5\"]=Eval5['auc']\n",
    "Evalall"
   ]
  },
  {
   "cell_type": "code",
   "execution_count": 13,
   "metadata": {},
   "outputs": [
    {
     "data": {
      "text/plain": [
       "auc     0.806640\n",
       "auc2    0.805233\n",
       "auc3    0.805182\n",
       "auc4    0.804517\n",
       "auc5    0.804152\n",
       "dtype: float64"
      ]
     },
     "execution_count": 13,
     "metadata": {},
     "output_type": "execute_result"
    }
   ],
   "source": [
    "Evalall.mean(axis=0)"
   ]
  },
  {
   "cell_type": "code",
   "execution_count": 14,
   "metadata": {},
   "outputs": [
    {
     "name": "stdout",
     "output_type": "stream",
     "text": [
      "CXP Mean of 14 aucs mean over 5 run:      0.805\n",
      "CXP Confidence interval of 14 aucs mean over 5 run:    0.001\n"
     ]
    }
   ],
   "source": [
    "print(\"CXP Mean of 14 aucs mean over 5 run:     \",round(Evalall.mean(axis=0).mean(),3))\n",
    "print(\"CXP Confidence interval of 14 aucs mean over 5 run:   \",round(1.96 * Evalall.mean(axis=0).std()/np.sqrt(5) ,3 ) )"
   ]
  },
  {
   "cell_type": "code",
   "execution_count": 8,
   "metadata": {},
   "outputs": [
    {
     "name": "stdout",
     "output_type": "stream",
     "text": [
      "CXP Mean of auce per disease over 5 run:     \n"
     ]
    },
    {
     "data": {
      "text/plain": [
       "0     0.717\n",
       "1     0.855\n",
       "2     0.734\n",
       "3     0.849\n",
       "4     0.668\n",
       "5     0.790\n",
       "6     0.780\n",
       "7     0.747\n",
       "8     0.885\n",
       "9     0.885\n",
       "10    0.795\n",
       "11    0.777\n",
       "12    0.893\n",
       "13    0.898\n",
       "dtype: float64"
      ]
     },
     "execution_count": 8,
     "metadata": {},
     "output_type": "execute_result"
    }
   ],
   "source": [
    "print(\"CXP Mean of auce per disease over 5 run:     \")\n",
    "round(Evalall.mean(axis=1),3)"
   ]
  },
  {
   "cell_type": "code",
   "execution_count": 9,
   "metadata": {},
   "outputs": [
    {
     "name": "stdout",
     "output_type": "stream",
     "text": [
      "CXP Confidence interval of auce per disease over 5 run:     \n"
     ]
    },
    {
     "data": {
      "text/plain": [
       "0     0.002\n",
       "1     0.003\n",
       "2     0.004\n",
       "3     0.001\n",
       "4     0.005\n",
       "5     0.006\n",
       "6     0.005\n",
       "7     0.001\n",
       "8     0.001\n",
       "9     0.001\n",
       "10    0.004\n",
       "11    0.003\n",
       "12    0.002\n",
       "13    0.001\n",
       "dtype: float64"
      ]
     },
     "execution_count": 9,
     "metadata": {},
     "output_type": "execute_result"
    }
   ],
   "source": [
    "print(\"CXP Confidence interval of auce per disease over 5 run:     \")\n",
    "round(1.96 * Evalall.std(axis=1)/ np.sqrt(5),3)"
   ]
  },
  {
   "cell_type": "code",
   "execution_count": null,
   "metadata": {},
   "outputs": [],
   "source": []
  }
 ],
 "metadata": {
  "kernelspec": {
   "display_name": "Python 3",
   "language": "python",
   "name": "python3"
  },
  "language_info": {
   "codemirror_mode": {
    "name": "ipython",
    "version": 3
   },
   "file_extension": ".py",
   "mimetype": "text/x-python",
   "name": "python",
   "nbconvert_exporter": "python",
   "pygments_lexer": "ipython3",
   "version": "3.7.3"
  }
 },
 "nbformat": 4,
 "nbformat_minor": 2
}
