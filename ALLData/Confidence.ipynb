{
 "cells": [
  {
   "cell_type": "code",
   "execution_count": 2,
   "metadata": {},
   "outputs": [],
   "source": [
    "import pandas as pd\n",
    "import numpy as np\n",
    "import matplotlib.pyplot as plt\n",
    "from Config import val_df, train_df, test_df\n",
    "from statistics import mean"
   ]
  },
  {
   "cell_type": "markdown",
   "metadata": {},
   "source": [
    "## Percentages"
   ]
  },
  {
   "cell_type": "code",
   "execution_count": 2,
   "metadata": {},
   "outputs": [],
   "source": [
    "WholeData = test_df.append([val_df, train_df])"
   ]
  },
  {
   "cell_type": "code",
   "execution_count": 3,
   "metadata": {},
   "outputs": [
    {
     "name": "stdout",
     "output_type": "stream",
     "text": [
      "Number of images: 707626\n",
      "Number of unique patients: 129819\n"
     ]
    }
   ],
   "source": [
    "print(\"Number of images:\",len(WholeData) )\n",
    "Whole =WholeData.groupby(\"subject_id\")\n",
    "print(\"Number of unique patients:\",len(Whole.count()) )"
   ]
  },
  {
   "cell_type": "code",
   "execution_count": 4,
   "metadata": {},
   "outputs": [
    {
     "data": {
      "text/html": [
       "<div>\n",
       "<style scoped>\n",
       "    .dataframe tbody tr th:only-of-type {\n",
       "        vertical-align: middle;\n",
       "    }\n",
       "\n",
       "    .dataframe tbody tr th {\n",
       "        vertical-align: top;\n",
       "    }\n",
       "\n",
       "    .dataframe thead tr th {\n",
       "        text-align: left;\n",
       "    }\n",
       "\n",
       "    .dataframe thead tr:last-of-type th {\n",
       "        text-align: right;\n",
       "    }\n",
       "</style>\n",
       "<table border=\"1\" class=\"dataframe\">\n",
       "  <thead>\n",
       "    <tr>\n",
       "      <th></th>\n",
       "      <th colspan=\"8\" halign=\"left\">subject_id</th>\n",
       "      <th colspan=\"2\" halign=\"left\">No Finding</th>\n",
       "      <th>...</th>\n",
       "      <th colspan=\"2\" halign=\"left\">Consolidation</th>\n",
       "      <th colspan=\"8\" halign=\"left\">Edema</th>\n",
       "    </tr>\n",
       "    <tr>\n",
       "      <th></th>\n",
       "      <th>count</th>\n",
       "      <th>mean</th>\n",
       "      <th>std</th>\n",
       "      <th>min</th>\n",
       "      <th>25%</th>\n",
       "      <th>50%</th>\n",
       "      <th>75%</th>\n",
       "      <th>max</th>\n",
       "      <th>count</th>\n",
       "      <th>mean</th>\n",
       "      <th>...</th>\n",
       "      <th>75%</th>\n",
       "      <th>max</th>\n",
       "      <th>count</th>\n",
       "      <th>mean</th>\n",
       "      <th>std</th>\n",
       "      <th>min</th>\n",
       "      <th>25%</th>\n",
       "      <th>50%</th>\n",
       "      <th>75%</th>\n",
       "      <th>max</th>\n",
       "    </tr>\n",
       "    <tr>\n",
       "      <th>Sex</th>\n",
       "      <th></th>\n",
       "      <th></th>\n",
       "      <th></th>\n",
       "      <th></th>\n",
       "      <th></th>\n",
       "      <th></th>\n",
       "      <th></th>\n",
       "      <th></th>\n",
       "      <th></th>\n",
       "      <th></th>\n",
       "      <th></th>\n",
       "      <th></th>\n",
       "      <th></th>\n",
       "      <th></th>\n",
       "      <th></th>\n",
       "      <th></th>\n",
       "      <th></th>\n",
       "      <th></th>\n",
       "      <th></th>\n",
       "      <th></th>\n",
       "      <th></th>\n",
       "    </tr>\n",
       "  </thead>\n",
       "  <tbody>\n",
       "    <tr>\n",
       "      <th>F</th>\n",
       "      <td>317516.0</td>\n",
       "      <td>8.407315e+06</td>\n",
       "      <td>7.736500e+06</td>\n",
       "      <td>1.0</td>\n",
       "      <td>24130.0</td>\n",
       "      <td>11080025.0</td>\n",
       "      <td>15492782.0</td>\n",
       "      <td>19999987.0</td>\n",
       "      <td>317516.0</td>\n",
       "      <td>0.341932</td>\n",
       "      <td>...</td>\n",
       "      <td>0.0</td>\n",
       "      <td>1.0</td>\n",
       "      <td>317516.0</td>\n",
       "      <td>0.126457</td>\n",
       "      <td>0.332364</td>\n",
       "      <td>0.0</td>\n",
       "      <td>0.0</td>\n",
       "      <td>0.0</td>\n",
       "      <td>0.0</td>\n",
       "      <td>1.0</td>\n",
       "    </tr>\n",
       "    <tr>\n",
       "      <th>M</th>\n",
       "      <td>390109.0</td>\n",
       "      <td>7.479190e+06</td>\n",
       "      <td>7.766944e+06</td>\n",
       "      <td>1.0</td>\n",
       "      <td>20157.0</td>\n",
       "      <td>62926.0</td>\n",
       "      <td>15019807.0</td>\n",
       "      <td>19999442.0</td>\n",
       "      <td>390109.0</td>\n",
       "      <td>0.296814</td>\n",
       "      <td>...</td>\n",
       "      <td>0.0</td>\n",
       "      <td>1.0</td>\n",
       "      <td>390109.0</td>\n",
       "      <td>0.129310</td>\n",
       "      <td>0.335543</td>\n",
       "      <td>0.0</td>\n",
       "      <td>0.0</td>\n",
       "      <td>0.0</td>\n",
       "      <td>0.0</td>\n",
       "      <td>1.0</td>\n",
       "    </tr>\n",
       "    <tr>\n",
       "      <th>Unknown</th>\n",
       "      <td>1.0</td>\n",
       "      <td>3.309300e+04</td>\n",
       "      <td>NaN</td>\n",
       "      <td>33093.0</td>\n",
       "      <td>33093.0</td>\n",
       "      <td>33093.0</td>\n",
       "      <td>33093.0</td>\n",
       "      <td>33093.0</td>\n",
       "      <td>1.0</td>\n",
       "      <td>1.000000</td>\n",
       "      <td>...</td>\n",
       "      <td>0.0</td>\n",
       "      <td>0.0</td>\n",
       "      <td>1.0</td>\n",
       "      <td>0.000000</td>\n",
       "      <td>NaN</td>\n",
       "      <td>0.0</td>\n",
       "      <td>0.0</td>\n",
       "      <td>0.0</td>\n",
       "      <td>0.0</td>\n",
       "      <td>0.0</td>\n",
       "    </tr>\n",
       "  </tbody>\n",
       "</table>\n",
       "<p>3 rows × 72 columns</p>\n",
       "</div>"
      ],
      "text/plain": [
       "        subject_id                                                            \\\n",
       "             count          mean           std      min      25%         50%   \n",
       "Sex                                                                            \n",
       "F         317516.0  8.407315e+06  7.736500e+06      1.0  24130.0  11080025.0   \n",
       "M         390109.0  7.479190e+06  7.766944e+06      1.0  20157.0     62926.0   \n",
       "Unknown        1.0  3.309300e+04           NaN  33093.0  33093.0     33093.0   \n",
       "\n",
       "                                No Finding            ... Consolidation       \\\n",
       "                75%         max      count      mean  ...           75%  max   \n",
       "Sex                                                   ...                      \n",
       "F        15492782.0  19999987.0   317516.0  0.341932  ...           0.0  1.0   \n",
       "M        15019807.0  19999442.0   390109.0  0.296814  ...           0.0  1.0   \n",
       "Unknown     33093.0     33093.0        1.0  1.000000  ...           0.0  0.0   \n",
       "\n",
       "            Edema                                               \n",
       "            count      mean       std  min  25%  50%  75%  max  \n",
       "Sex                                                             \n",
       "F        317516.0  0.126457  0.332364  0.0  0.0  0.0  0.0  1.0  \n",
       "M        390109.0  0.129310  0.335543  0.0  0.0  0.0  0.0  1.0  \n",
       "Unknown       1.0  0.000000       NaN  0.0  0.0  0.0  0.0  0.0  \n",
       "\n",
       "[3 rows x 72 columns]"
      ]
     },
     "execution_count": 4,
     "metadata": {},
     "output_type": "execute_result"
    }
   ],
   "source": [
    "WholeDataX =WholeData.groupby(\"Sex\")\n",
    "WholeDataX_df = WholeDataX.describe()\n",
    "WholeDataX_df"
   ]
  },
  {
   "cell_type": "code",
   "execution_count": 5,
   "metadata": {},
   "outputs": [
    {
     "name": "stdout",
     "output_type": "stream",
     "text": [
      "Number of images: 707626\n",
      "Number of unique patients: 129819\n"
     ]
    }
   ],
   "source": [
    "print(\"Number of images:\",len(WholeData) )\n",
    "Whole =WholeData.groupby(\"subject_id\")\n",
    "print(\"Number of unique patients:\",len(Whole.count()) )"
   ]
  },
  {
   "cell_type": "code",
   "execution_count": 18,
   "metadata": {},
   "outputs": [
    {
     "name": "stdout",
     "output_type": "stream",
     "text": [
      "Male Percent:   55.1293411058117\n",
      "female Percent:   44.8706588941883\n",
      "#images 707625.0\n"
     ]
    }
   ],
   "source": [
    "dfWhole_Sex = WholeDataX_df[\"subject_id\"]['count']\n",
    "total_CXP= dfWhole_Sex[\"F\"]+dfWhole_Sex[\"M\"]\n",
    "Male_percent = 100*dfWhole_Sex[\"M\"]/total_CXP\n",
    "print(\"Male Percent:  \",Male_percent)\n",
    "\n",
    "print(\"female Percent:  \",100*dfWhole_Sex[\"F\"]/total_CXP)\n",
    "print(\"#images\",total_CXP) "
   ]
  },
  {
   "cell_type": "code",
   "execution_count": 19,
   "metadata": {},
   "outputs": [
    {
     "data": {
      "text/plain": [
       "M          390109\n",
       "F          317516\n",
       "Unknown         1\n",
       "Name: Sex, dtype: int64"
      ]
     },
     "execution_count": 19,
     "metadata": {},
     "output_type": "execute_result"
    }
   ],
   "source": [
    "WholeData['Sex'].value_counts()"
   ]
  },
  {
   "cell_type": "code",
   "execution_count": 7,
   "metadata": {},
   "outputs": [],
   "source": [
    "WholeData_020= WholeData[WholeData['Age'] =='0-20' ]\n",
    "WholeData_2040= WholeData[WholeData['Age'] =='20-40' ]\n",
    "WholeData_4060= WholeData[WholeData['Age'] =='40-60' ]\n",
    "WholeData_6080= WholeData[WholeData['Age'] =='60-80' ]\n",
    "WholeData_80= WholeData[WholeData['Age'] =='80-' ]\n",
    "totalAgeCXP=len(WholeData_020)+len(WholeData_2040)+len(WholeData_4060)+len(WholeData_6080)+len(WholeData_80)\n"
   ]
  },
  {
   "cell_type": "code",
   "execution_count": 8,
   "metadata": {},
   "outputs": [
    {
     "name": "stdout",
     "output_type": "stream",
     "text": [
      "'0-20' Percent:   2.395432209763242\n",
      "'20-40' Percent:   18.533110541880834\n",
      "'40-60' Percent:   36.29224697054516\n",
      "'60-80' Percent:   33.89865250753476\n",
      "'80-' Percent:   8.880557770276\n"
     ]
    },
    {
     "data": {
      "text/plain": [
       "100.0"
      ]
     },
     "execution_count": 8,
     "metadata": {},
     "output_type": "execute_result"
    }
   ],
   "source": [
    "print(\"'0-20' Percent:  \",100*len(WholeData_020)/totalAgeCXP)\n",
    "print(\"'20-40' Percent:  \",100*len(WholeData_2040)/totalAgeCXP)\n",
    "print(\"'40-60' Percent:  \",100*len(WholeData_4060)/totalAgeCXP)\n",
    "print(\"'60-80' Percent:  \",100*len(WholeData_6080)/totalAgeCXP)\n",
    "print(\"'80-' Percent:  \",100*len(WholeData_80)/totalAgeCXP)\n",
    "2.395432209763242+18.533110541880834+36.29224697054516+33.89865250753476+8.880557770276"
   ]
  },
  {
   "cell_type": "markdown",
   "metadata": {},
   "source": [
    "## AUC average and CI on 5 run"
   ]
  },
  {
   "cell_type": "code",
   "execution_count": 2,
   "metadata": {},
   "outputs": [],
   "source": [
    "Eval5 = pd.read_csv(\"./results6/Eval5.csv\")\n",
    "Eval4= pd.read_csv(\"./results37/Eval4.csv\")\n",
    "Eval3 = pd.read_csv(\"./results47/Eval3.csv\")\n",
    "Eval2 = pd.read_csv(\"./results19/Eval2.csv\")\n",
    "Eval1 = pd.read_csv(\"./results57/Eval1.csv\")"
   ]
  },
  {
   "cell_type": "code",
   "execution_count": 3,
   "metadata": {},
   "outputs": [
    {
     "data": {
      "text/html": [
       "<div>\n",
       "<style scoped>\n",
       "    .dataframe tbody tr th:only-of-type {\n",
       "        vertical-align: middle;\n",
       "    }\n",
       "\n",
       "    .dataframe tbody tr th {\n",
       "        vertical-align: top;\n",
       "    }\n",
       "\n",
       "    .dataframe thead th {\n",
       "        text-align: right;\n",
       "    }\n",
       "</style>\n",
       "<table border=\"1\" class=\"dataframe\">\n",
       "  <thead>\n",
       "    <tr style=\"text-align: right;\">\n",
       "      <th></th>\n",
       "      <th>label</th>\n",
       "      <th>auc</th>\n",
       "      <th>auc2</th>\n",
       "      <th>auc3</th>\n",
       "      <th>auc4</th>\n",
       "      <th>auc5</th>\n",
       "    </tr>\n",
       "  </thead>\n",
       "  <tbody>\n",
       "    <tr>\n",
       "      <th>0</th>\n",
       "      <td>Atelectasis</td>\n",
       "      <td>0.810</td>\n",
       "      <td>0.808</td>\n",
       "      <td>0.807</td>\n",
       "      <td>0.807</td>\n",
       "      <td>0.808</td>\n",
       "    </tr>\n",
       "    <tr>\n",
       "      <th>1</th>\n",
       "      <td>Cardiomegaly</td>\n",
       "      <td>0.856</td>\n",
       "      <td>0.858</td>\n",
       "      <td>0.857</td>\n",
       "      <td>0.855</td>\n",
       "      <td>0.855</td>\n",
       "    </tr>\n",
       "    <tr>\n",
       "      <th>2</th>\n",
       "      <td>Consolidation</td>\n",
       "      <td>0.806</td>\n",
       "      <td>0.805</td>\n",
       "      <td>0.804</td>\n",
       "      <td>0.805</td>\n",
       "      <td>0.804</td>\n",
       "    </tr>\n",
       "    <tr>\n",
       "      <th>3</th>\n",
       "      <td>Edema</td>\n",
       "      <td>0.898</td>\n",
       "      <td>0.899</td>\n",
       "      <td>0.898</td>\n",
       "      <td>0.899</td>\n",
       "      <td>0.897</td>\n",
       "    </tr>\n",
       "    <tr>\n",
       "      <th>4</th>\n",
       "      <td>No Finding</td>\n",
       "      <td>0.891</td>\n",
       "      <td>0.890</td>\n",
       "      <td>0.890</td>\n",
       "      <td>0.890</td>\n",
       "      <td>0.890</td>\n",
       "    </tr>\n",
       "    <tr>\n",
       "      <th>5</th>\n",
       "      <td>Pleural Effusion</td>\n",
       "      <td>0.923</td>\n",
       "      <td>0.924</td>\n",
       "      <td>0.922</td>\n",
       "      <td>0.921</td>\n",
       "      <td>0.922</td>\n",
       "    </tr>\n",
       "    <tr>\n",
       "      <th>6</th>\n",
       "      <td>Pneumonia</td>\n",
       "      <td>0.785</td>\n",
       "      <td>0.784</td>\n",
       "      <td>0.783</td>\n",
       "      <td>0.784</td>\n",
       "      <td>0.784</td>\n",
       "    </tr>\n",
       "    <tr>\n",
       "      <th>7</th>\n",
       "      <td>Pneumothorax</td>\n",
       "      <td>0.906</td>\n",
       "      <td>0.903</td>\n",
       "      <td>0.906</td>\n",
       "      <td>0.904</td>\n",
       "      <td>0.901</td>\n",
       "    </tr>\n",
       "  </tbody>\n",
       "</table>\n",
       "</div>"
      ],
      "text/plain": [
       "              label    auc   auc2   auc3   auc4   auc5\n",
       "0       Atelectasis  0.810  0.808  0.807  0.807  0.808\n",
       "1      Cardiomegaly  0.856  0.858  0.857  0.855  0.855\n",
       "2     Consolidation  0.806  0.805  0.804  0.805  0.804\n",
       "3             Edema  0.898  0.899  0.898  0.899  0.897\n",
       "4        No Finding  0.891  0.890  0.890  0.890  0.890\n",
       "5  Pleural Effusion  0.923  0.924  0.922  0.921  0.922\n",
       "6         Pneumonia  0.785  0.784  0.783  0.784  0.784\n",
       "7      Pneumothorax  0.906  0.903  0.906  0.904  0.901"
      ]
     },
     "execution_count": 3,
     "metadata": {},
     "output_type": "execute_result"
    }
   ],
   "source": [
    "Evalall = Eval1[['label','auc']]\n",
    "\n",
    "Evalall[\"auc2\"]=Eval2['auc']\n",
    "Evalall[\"auc3\"]=Eval3['auc']\n",
    "Evalall[\"auc4\"]=Eval4['auc']\n",
    "Evalall[\"auc5\"]=Eval5['auc']\n",
    "round(Evalall,3)"
   ]
  },
  {
   "cell_type": "code",
   "execution_count": 4,
   "metadata": {},
   "outputs": [
    {
     "data": {
      "text/plain": [
       "auc     0.859\n",
       "auc2    0.859\n",
       "auc3    0.858\n",
       "auc4    0.858\n",
       "auc5    0.858\n",
       "dtype: float64"
      ]
     },
     "execution_count": 4,
     "metadata": {},
     "output_type": "execute_result"
    }
   ],
   "source": [
    "round(Evalall.mean(axis=0),3)"
   ]
  },
  {
   "cell_type": "code",
   "execution_count": 5,
   "metadata": {},
   "outputs": [
    {
     "name": "stdout",
     "output_type": "stream",
     "text": [
      "ALL Mean of 14 aucs mean over 5 run:      0.859\n",
      "ALL Confidence interval of 14 aucs mean over 5 run:    0.001\n"
     ]
    }
   ],
   "source": [
    "print(\"ALL Mean of 14 aucs mean over 5 run:     \",round(Evalall.mean(axis=0).mean(),3))\n",
    "print(\"ALL Confidence interval of 14 aucs mean over 5 run:   \",round(1.96 * Evalall.mean(axis=0).std()/np.sqrt(5) ,3 ) )"
   ]
  },
  {
   "cell_type": "code",
   "execution_count": 6,
   "metadata": {},
   "outputs": [
    {
     "name": "stdout",
     "output_type": "stream",
     "text": [
      "ALL Mean of auce per disease over 5 run:     \n"
     ]
    },
    {
     "data": {
      "text/plain": [
       "0    0.808\n",
       "1    0.856\n",
       "2    0.805\n",
       "3    0.898\n",
       "4    0.890\n",
       "5    0.922\n",
       "6    0.784\n",
       "7    0.904\n",
       "dtype: float64"
      ]
     },
     "execution_count": 6,
     "metadata": {},
     "output_type": "execute_result"
    }
   ],
   "source": [
    "print(\"ALL Mean of auce per disease over 5 run:     \")\n",
    "round(Evalall.mean(axis=1),3)"
   ]
  },
  {
   "cell_type": "code",
   "execution_count": 7,
   "metadata": {},
   "outputs": [
    {
     "name": "stdout",
     "output_type": "stream",
     "text": [
      "ALLData Confidence interval of auce per disease over 5 run:     \n"
     ]
    },
    {
     "data": {
      "text/plain": [
       "0    0.001\n",
       "1    0.001\n",
       "2    0.001\n",
       "3    0.001\n",
       "4    0.000\n",
       "5    0.001\n",
       "6    0.001\n",
       "7    0.002\n",
       "dtype: float64"
      ]
     },
     "execution_count": 7,
     "metadata": {},
     "output_type": "execute_result"
    }
   ],
   "source": [
    "print(\"ALLData Confidence interval of auce per disease over 5 run:     \")\n",
    "round(1.96 * Evalall.std(axis=1)/ np.sqrt(5),3)"
   ]
  }
 ],
 "metadata": {
  "kernelspec": {
   "display_name": "Python 3",
   "language": "python",
   "name": "python3"
  },
  "language_info": {
   "codemirror_mode": {
    "name": "ipython",
    "version": 3
   },
   "file_extension": ".py",
   "mimetype": "text/x-python",
   "name": "python",
   "nbconvert_exporter": "python",
   "pygments_lexer": "ipython3",
   "version": "3.7.3"
  }
 },
 "nbformat": 4,
 "nbformat_minor": 2
}
