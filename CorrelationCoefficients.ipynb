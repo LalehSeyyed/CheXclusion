{
 "cells": [
  {
   "cell_type": "code",
   "execution_count": 1,
   "metadata": {},
   "outputs": [],
   "source": [
    "import pandas as pd\n",
    "from scipy import stats"
   ]
  },
  {
   "cell_type": "code",
   "execution_count": 2,
   "metadata": {},
   "outputs": [
    {
     "data": {
      "text/plain": [
       "0.0015"
      ]
     },
     "execution_count": 2,
     "metadata": {},
     "output_type": "execute_result"
    }
   ],
   "source": [
    "correlation ={}\n",
    "P ={}\n",
    "Thereshold = 0.05/33 # Bonferroni correction for multiple (33) hypothesis test each with 0.05 significance level\n",
    "Passed = []\n",
    "round(Thereshold,4)"
   ]
  },
  {
   "cell_type": "markdown",
   "metadata": {},
   "source": [
    "## ALLData correlation Sex"
   ]
  },
  {
   "cell_type": "code",
   "execution_count": 3,
   "metadata": {},
   "outputs": [],
   "source": [
    "WantX_ALL = pd.read_csv(\"./ALLData/results/WantX.csv\")"
   ]
  },
  {
   "cell_type": "code",
   "execution_count": 4,
   "metadata": {},
   "outputs": [
    {
     "name": "stdout",
     "output_type": "stream",
     "text": [
      "correlation coefficient per subgrous\n",
      "ALLdata M Corr: (0.5961425162841062, 0.11882398044512538)\n"
     ]
    }
   ],
   "source": [
    "print(\"correlation coefficient per subgrous\")\n",
    "GAPs = {\"Gap_M_mean\":\"%M\"}\n",
    "preferred_name = {\"%M\":\"Male\"}\n",
    "for key, values in GAPs.items():\n",
    "    noNAN = WantX_ALL[[key,values]].dropna(subset=[key])\n",
    "    corr = stats.pearsonr(noNAN[key], noNAN[values])\n",
    "    groupname = \"ALLData:\"+preferred_name[values]\n",
    "    correlation[groupname] = round(corr[0],4)\n",
    "    P[groupname] = round(corr[1],4)\n",
    "    if round(corr[1],4) <=Thereshold:\n",
    "        Passed.append(groupname)\n",
    "        print(groupname+\"Pass the test\")\n",
    "    print(\"ALLdata \"+values[1:]+ \" Corr:\",stats.pearsonr(noNAN[key], noNAN[values]) )"
   ]
  },
  {
   "cell_type": "markdown",
   "metadata": {},
   "source": [
    "## ALLData correlation Age"
   ]
  },
  {
   "cell_type": "code",
   "execution_count": 5,
   "metadata": {},
   "outputs": [],
   "source": [
    "WantAge_ALL = pd.read_csv(\"./ALLData/results/WantAge.csv\")"
   ]
  },
  {
   "cell_type": "code",
   "execution_count": 6,
   "metadata": {},
   "outputs": [
    {
     "name": "stdout",
     "output_type": "stream",
     "text": [
      "correlation coefficient per subgrpus\n",
      "ALLData 40-60 Corr: (0.19391651778413932, 0.6454186554064216)\n",
      "ALLData:60-80Passed the test\n",
      "ALLData 60-80 Corr: (0.9358465537961449, 0.0006287326275197518)\n",
      "ALLData 20-40 Corr: (0.8852570382945787, 0.0034591915649193642)\n",
      "ALLData 80- Corr: (0.9124133271444452, 0.0015713743050026411)\n",
      "ALLData 0-20 Corr: (0.7145617140469952, 0.04640418404522574)\n"
     ]
    }
   ],
   "source": [
    "print(\"correlation coefficient per subgrpus\")\n",
    "GAPs = {\"Gap_40-60_mean\":\"%40-60\", \"Gap_60-80_mean\":\"%60-80\",\"Gap_20-40_mean\":\"%20-40\",\n",
    "          \"Gap_80-_mean\":\"%80-\",\"Gap_0-20_mean\":\"%0-20\"}\n",
    "\n",
    "for key, values in GAPs.items():\n",
    "    noNAN = WantAge_ALL[[key,values]].dropna(subset=[key])\n",
    "    \n",
    "    corr = stats.pearsonr(noNAN[key], noNAN[values])\n",
    "    groupname = \"ALLData:\"+values[1:]\n",
    "    correlation[groupname] = round(corr[0],4)\n",
    "    P[groupname] = round(corr[1],4)\n",
    "    if round(corr[1],4) <=Thereshold:\n",
    "        Passed.append(groupname)\n",
    "        print(groupname+\"Passed the test\")\n",
    "    print(\"ALLData \"+values[1:]+ \" Corr:\",stats.pearsonr(noNAN[key], noNAN[values]) )"
   ]
  },
  {
   "cell_type": "markdown",
   "metadata": {},
   "source": [
    "## NIH correlation Sex"
   ]
  },
  {
   "cell_type": "code",
   "execution_count": 7,
   "metadata": {},
   "outputs": [],
   "source": [
    "WantX_NIH = pd.read_csv(\"./NIH/results/WantX.csv\")\n"
   ]
  },
  {
   "cell_type": "code",
   "execution_count": 8,
   "metadata": {},
   "outputs": [
    {
     "name": "stdout",
     "output_type": "stream",
     "text": [
      "correlation coefficient per subgrpus\n",
      "NIH-Male Corr: (0.3049490702561459, 0.2890753869685472)\n",
      "NIH-Female Corr: (0.3049490702561458, 0.2890753869685472)\n"
     ]
    }
   ],
   "source": [
    "print(\"correlation coefficient per subgrpus\")\n",
    "print(\"NIH-Male Corr:\",stats.pearsonr(WantX_NIH[\"Gap_M_mean\"], WantX_NIH[\"%M\"]))\n",
    "print(\"NIH-Female Corr:\",stats.pearsonr(WantX_NIH[\"Gap_F_mean\"], WantX_NIH[\"%F\"]) )     \n",
    "\n",
    "corr = stats.pearsonr(WantX_NIH[\"Gap_F_mean\"], WantX_NIH[\"%F\"])"
   ]
  },
  {
   "cell_type": "code",
   "execution_count": 9,
   "metadata": {},
   "outputs": [
    {
     "name": "stdout",
     "output_type": "stream",
     "text": [
      "correlation coefficient per subgrous\n",
      "NIH M Corr: (0.3049490702561459, 0.2890753869685472)\n"
     ]
    }
   ],
   "source": [
    "print(\"correlation coefficient per subgrous\")\n",
    "GAPs = {\"Gap_M_mean\":\"%M\"}\n",
    "preferred_name = {\"%M\":\"Male\"}\n",
    "for key, values in GAPs.items():\n",
    "    noNAN = WantX_NIH[[key,values]].dropna(subset=[key])\n",
    "    corr = stats.pearsonr(noNAN[key], noNAN[values])\n",
    "    groupname = \"NIH:\"+preferred_name[values]\n",
    "    correlation[groupname] = round(corr[0],4)\n",
    "    P[groupname] = round(corr[1],4)\n",
    "    if round(corr[1],4) <=Thereshold:\n",
    "        Passed.append(groupname)\n",
    "        print(groupname+\"Pass the test\")\n",
    "    print(\"NIH \"+values[1:]+ \" Corr:\",stats.pearsonr(noNAN[key], noNAN[values]) )"
   ]
  },
  {
   "cell_type": "code",
   "execution_count": 10,
   "metadata": {},
   "outputs": [
    {
     "data": {
      "text/plain": [
       "{'ALLData:Male': 0.5961,\n",
       " 'ALLData:40-60': 0.1939,\n",
       " 'ALLData:60-80': 0.9358,\n",
       " 'ALLData:20-40': 0.8853,\n",
       " 'ALLData:80-': 0.9124,\n",
       " 'ALLData:0-20': 0.7146,\n",
       " 'NIH:Male': 0.3049}"
      ]
     },
     "execution_count": 10,
     "metadata": {},
     "output_type": "execute_result"
    }
   ],
   "source": [
    "correlation"
   ]
  },
  {
   "cell_type": "markdown",
   "metadata": {},
   "source": [
    "## NIH correlation Age"
   ]
  },
  {
   "cell_type": "code",
   "execution_count": 11,
   "metadata": {},
   "outputs": [],
   "source": [
    "WantAge_NIH = pd.read_csv(\"./NIH/results/WantAge.csv\")\n"
   ]
  },
  {
   "cell_type": "code",
   "execution_count": 12,
   "metadata": {},
   "outputs": [
    {
     "name": "stdout",
     "output_type": "stream",
     "text": [
      "NIH 40-60 Corr: (-0.21969718930093388, 0.4504382232941826)\n",
      "NIH 60-80 Corr: (0.11646172324082861, 0.6917463507373194)\n",
      "NIH 20-40 Corr: (0.3081764609151893, 0.3056471042714395)\n",
      "NIH 80- Corr: (0.13746548818974208, 0.6869080835753888)\n",
      "NIH 0-20 Corr: (0.025153878356888246, 0.9349911632726241)\n"
     ]
    }
   ],
   "source": [
    "GAPs = {\"Gap_40-60_mean\":\"%40-60\", \"Gap_60-80_mean\":\"%60-80\",\"Gap_20-40_mean\":\"%20-40\",\"Gap_80-_mean\":\"%80-\",\"Gap_0-20_mean\":\"%0-20\"}\n",
    "preferred_name = {\"%M\":\"Male\"}\n",
    "for key, values in GAPs.items():\n",
    "    noNAN = WantAge_NIH[[key,values]].dropna(subset=[key])\n",
    "    \n",
    "    corr = stats.pearsonr(noNAN[key], noNAN[values])\n",
    "    groupname = \"NIH:\"+values[1:]\n",
    "    correlation[groupname] = round(corr[0],4)\n",
    "    P[groupname] = round(corr[1],4)\n",
    "    if round(corr[1],4) <=Thereshold:\n",
    "        Passed.append(groupname)\n",
    "        print(groupname+\"Pass the test\")\n",
    "    print(\"NIH \"+values[1:]+ \" Corr:\",stats.pearsonr(noNAN[key], noNAN[values]) )"
   ]
  },
  {
   "cell_type": "code",
   "execution_count": 13,
   "metadata": {},
   "outputs": [
    {
     "data": {
      "text/plain": [
       "{'ALLData:Male': 0.1188,\n",
       " 'ALLData:40-60': 0.6454,\n",
       " 'ALLData:60-80': 0.0006,\n",
       " 'ALLData:20-40': 0.0035,\n",
       " 'ALLData:80-': 0.0016,\n",
       " 'ALLData:0-20': 0.0464,\n",
       " 'NIH:Male': 0.2891,\n",
       " 'NIH:40-60': 0.4504,\n",
       " 'NIH:60-80': 0.6917,\n",
       " 'NIH:20-40': 0.3056,\n",
       " 'NIH:80-': 0.6869,\n",
       " 'NIH:0-20': 0.935}"
      ]
     },
     "execution_count": 13,
     "metadata": {},
     "output_type": "execute_result"
    }
   ],
   "source": [
    "P"
   ]
  },
  {
   "cell_type": "code",
   "execution_count": 14,
   "metadata": {},
   "outputs": [
    {
     "data": {
      "text/plain": [
       "{'ALLData:Male': 0.5961,\n",
       " 'ALLData:40-60': 0.1939,\n",
       " 'ALLData:60-80': 0.9358,\n",
       " 'ALLData:20-40': 0.8853,\n",
       " 'ALLData:80-': 0.9124,\n",
       " 'ALLData:0-20': 0.7146,\n",
       " 'NIH:Male': 0.3049,\n",
       " 'NIH:40-60': -0.2197,\n",
       " 'NIH:60-80': 0.1165,\n",
       " 'NIH:20-40': 0.3082,\n",
       " 'NIH:80-': 0.1375,\n",
       " 'NIH:0-20': 0.0252}"
      ]
     },
     "execution_count": 14,
     "metadata": {},
     "output_type": "execute_result"
    }
   ],
   "source": [
    "correlation"
   ]
  },
  {
   "cell_type": "markdown",
   "metadata": {},
   "source": [
    "## CXP correlation Sex"
   ]
  },
  {
   "cell_type": "code",
   "execution_count": 15,
   "metadata": {},
   "outputs": [],
   "source": [
    "WantX_CXP = pd.read_csv(\"./CXP/results/WantX.csv\")"
   ]
  },
  {
   "cell_type": "code",
   "execution_count": 16,
   "metadata": {},
   "outputs": [
    {
     "name": "stdout",
     "output_type": "stream",
     "text": [
      "correlation coefficient per subgrous\n",
      "CXP M Corr: (0.36570523245472086, 0.19848721424802304)\n"
     ]
    }
   ],
   "source": [
    "print(\"correlation coefficient per subgrous\")\n",
    "GAPs = {\"Gap_M_mean\":\"%M\"}\n",
    "for key, values in GAPs.items():\n",
    "    noNAN = WantX_CXP[[key,values]].dropna(subset=[key])\n",
    "    corr = stats.pearsonr(noNAN[key], noNAN[values])\n",
    "    groupname = \"CXP:\"+preferred_name[values]\n",
    "    correlation[groupname] = round(corr[0],4)\n",
    "    P[groupname] = round(corr[1],4)\n",
    "    if round(corr[1],4) <=Thereshold:\n",
    "        Passed.append(groupname)\n",
    "        print(groupname+\"Pass the test\")\n",
    "    print(\"CXP \"+values[1:]+ \" Corr:\",stats.pearsonr(noNAN[key], noNAN[values]) )"
   ]
  },
  {
   "cell_type": "code",
   "execution_count": 17,
   "metadata": {},
   "outputs": [
    {
     "data": {
      "text/plain": [
       "{'ALLData:Male': 0.1188,\n",
       " 'ALLData:40-60': 0.6454,\n",
       " 'ALLData:60-80': 0.0006,\n",
       " 'ALLData:20-40': 0.0035,\n",
       " 'ALLData:80-': 0.0016,\n",
       " 'ALLData:0-20': 0.0464,\n",
       " 'NIH:Male': 0.2891,\n",
       " 'NIH:40-60': 0.4504,\n",
       " 'NIH:60-80': 0.6917,\n",
       " 'NIH:20-40': 0.3056,\n",
       " 'NIH:80-': 0.6869,\n",
       " 'NIH:0-20': 0.935,\n",
       " 'CXP:Male': 0.1985}"
      ]
     },
     "execution_count": 17,
     "metadata": {},
     "output_type": "execute_result"
    }
   ],
   "source": [
    "P"
   ]
  },
  {
   "cell_type": "markdown",
   "metadata": {},
   "source": [
    "## CXP correlation Age"
   ]
  },
  {
   "cell_type": "code",
   "execution_count": 18,
   "metadata": {},
   "outputs": [],
   "source": [
    "WantAge_CXP = pd.read_csv(\"./CXP/results/WantAge.csv\")"
   ]
  },
  {
   "cell_type": "code",
   "execution_count": 19,
   "metadata": {},
   "outputs": [
    {
     "name": "stdout",
     "output_type": "stream",
     "text": [
      "correlation coefficient per subgrpus\n",
      "CXP 40-60 Corr: (0.30304156759183426, 0.2922551829232988)\n",
      "CXP:60-80Passed the test\n",
      "CXP 60-80 Corr: (0.8528272494492379, 0.00010602245560994435)\n",
      "CXP 20-40 Corr: (0.5087686313077648, 0.06318514980585116)\n",
      "CXP 80- Corr: (0.7355173398094695, 0.002717373065316159)\n",
      "CXP 0-20 Corr: (0.44586751920297113, 0.11006282146974763)\n"
     ]
    }
   ],
   "source": [
    "print(\"correlation coefficient per subgrpus\")\n",
    "GAPs = {\"Gap_40-60_mean\":\"%40-60\", \"Gap_60-80_mean\":\"%60-80\",\"Gap_20-40_mean\":\"%20-40\",\"Gap_80-_mean\":\"%80-\",\"Gap_0-20_mean\":\"%0-20\"}\n",
    "\n",
    "for key, values in GAPs.items():\n",
    "    noNAN = WantAge_CXP[[key,values]].dropna(subset=[key])\n",
    "    \n",
    "    corr = stats.pearsonr(noNAN[key], noNAN[values])\n",
    "    groupname = \"CXP:\"+values[1:]\n",
    "    correlation[groupname] = round(corr[0],4)\n",
    "    P[groupname] = round(corr[1],4)\n",
    "    if round(corr[1],4) <=Thereshold:\n",
    "        Passed.append(groupname)\n",
    "        print(groupname+\"Passed the test\")\n",
    "    print(\"CXP \"+values[1:]+ \" Corr:\",stats.pearsonr(noNAN[key], noNAN[values]) )"
   ]
  },
  {
   "cell_type": "code",
   "execution_count": 20,
   "metadata": {},
   "outputs": [
    {
     "data": {
      "text/plain": [
       "['ALLData:60-80', 'CXP:60-80']"
      ]
     },
     "execution_count": 20,
     "metadata": {},
     "output_type": "execute_result"
    }
   ],
   "source": [
    "Passed"
   ]
  },
  {
   "cell_type": "markdown",
   "metadata": {},
   "source": [
    "## CXR correlation Sex"
   ]
  },
  {
   "cell_type": "code",
   "execution_count": 21,
   "metadata": {},
   "outputs": [],
   "source": [
    "WantX_MIMIC = pd.read_csv(\"./MIMIC/results/WantX.csv\")"
   ]
  },
  {
   "cell_type": "code",
   "execution_count": 22,
   "metadata": {},
   "outputs": [
    {
     "name": "stdout",
     "output_type": "stream",
     "text": [
      "correlation coefficient per subgrous\n",
      "CXR M Corr: (0.7197541728959844, 0.003703452743856123)\n"
     ]
    }
   ],
   "source": [
    "print(\"correlation coefficient per subgrous\")\n",
    "GAPs = {\"Gap_M_mean\":\"%M\"}\n",
    "for key, values in GAPs.items():\n",
    "    noNAN = WantX_MIMIC[[key,values]].dropna(subset=[key])\n",
    "    corr = stats.pearsonr(noNAN[key], noNAN[values])\n",
    "    groupname = \"CXR:\"+preferred_name[values]\n",
    "    correlation[groupname] = round(corr[0],4)\n",
    "    P[groupname] = round(corr[1],4)\n",
    "    if round(corr[1],4) <=Thereshold:\n",
    "        Passed.append(groupname)\n",
    "        print(groupname+\" Pass the test\")\n",
    "    print(\"CXR \"+values[1:]+ \" Corr:\",stats.pearsonr(noNAN[key], noNAN[values]) )"
   ]
  },
  {
   "cell_type": "markdown",
   "metadata": {},
   "source": [
    "## CXR correlation Age"
   ]
  },
  {
   "cell_type": "code",
   "execution_count": 23,
   "metadata": {},
   "outputs": [],
   "source": [
    "WantAge_CXR = pd.read_csv(\"./MIMIC/results/WantAge.csv\")"
   ]
  },
  {
   "cell_type": "code",
   "execution_count": 24,
   "metadata": {},
   "outputs": [
    {
     "name": "stdout",
     "output_type": "stream",
     "text": [
      "correlation coefficient per subgrpus\n",
      "CXR 40-60 Corr: (0.1848118299495072, 0.5270488621686299)\n",
      "CXR:60-80Passed the test\n",
      "CXR 60-80 Corr: (0.7874223743001865, 0.0008281175833247775)\n",
      "CXR:20-40Passed the test\n",
      "CXR 20-40 Corr: (0.7661080261484932, 0.0013975392904852881)\n",
      "CXR:80-Passed the test\n",
      "CXR 80- Corr: (0.8578077896493101, 8.721680274463286e-05)\n",
      "CXR 0-20 Corr: (0.5973660161005258, 0.03109554095751364)\n"
     ]
    }
   ],
   "source": [
    "print(\"correlation coefficient per subgrpus\")\n",
    "GAPs = {\"Gap_40-60_mean\":\"%40-60\", \"Gap_60-80_mean\":\"%60-80\",\"Gap_20-40_mean\":\"%20-40\",\"Gap_80-_mean\":\"%80-\",\"Gap_0-20_mean\":\"%0-20\"}\n",
    "\n",
    "for key, values in GAPs.items():\n",
    "    noNAN = WantAge_CXR[[key,values]].dropna(subset=[key])\n",
    "    corr = stats.pearsonr(noNAN[key], noNAN[values])\n",
    "    groupname = \"CXR:\"+values[1:]\n",
    "    correlation[groupname] = round(corr[0],4)\n",
    "    P[groupname] = corr[1]\n",
    "    if round(corr[1],4) <=Thereshold:\n",
    "        Passed.append(groupname)\n",
    "        print(groupname+\"Passed the test\")\n",
    "    print(\"CXR \"+values[1:]+ \" Corr:\",stats.pearsonr(noNAN[key], noNAN[values]) )"
   ]
  },
  {
   "cell_type": "markdown",
   "metadata": {},
   "source": [
    "## CXR correlation Race"
   ]
  },
  {
   "cell_type": "code",
   "execution_count": 26,
   "metadata": {},
   "outputs": [],
   "source": [
    "WantRace_CXR = pd.read_csv(\"./MIMIC/results/WantR.csv\")"
   ]
  },
  {
   "cell_type": "code",
   "execution_count": 28,
   "metadata": {},
   "outputs": [
    {
     "name": "stdout",
     "output_type": "stream",
     "text": [
      "correlation coefficient per subgrpus\n",
      "CXR White Corr: (0.40739292298747487, 0.1482267957291972)\n",
      "CXR Black Corr: (0.3246586275802913, 0.25741325293007766)\n",
      "CXR Hisp Corr: (0.5529626155359114, 0.040272329328721004)\n",
      "CXR:Other Pass the test\n",
      "CXR Other Corr: (0.7815512227873638, 0.0009618830545936202)\n",
      "CXR Asian Corr: (-0.4207303018974565, 0.13412772016049718)\n",
      "CXR American Corr: (0.534858235087814, 0.1378852003050568)\n"
     ]
    }
   ],
   "source": [
    "print(\"correlation coefficient per subgrpus\")\n",
    "GAPs = {\"Gap_W_mean\":\"%White\", \"Gap_B_mean\":\"%Black\",\"Gap_H_mean\":\"%Hisp\",\n",
    "        \"Gap_Ot_mean\":\"%Other\",\"Gap_As_mean\":\"%Asian\",\"Gap_Am_mean\":\"%American\"}\n",
    "preferred_name = {\"%M\":\"Male\", \"%American\":\"Native\"}\n",
    "for key, values in GAPs.items():\n",
    "    noNAN = WantRace_CXR[[key,values]].dropna(subset=[key])\n",
    "    corr = stats.pearsonr(noNAN[key], noNAN[values])\n",
    "    if values == \"%American\":\n",
    "        groupname = \"CXR:\"+preferred_name[values]\n",
    "    else:\n",
    "        groupname = \"CXR:\"+values[1:]\n",
    "    correlation[groupname] = round(corr[0],4)\n",
    "    P[groupname] = round(corr[1],4)\n",
    "    if round(corr[1],4) <=Thereshold:\n",
    "        Passed.append(groupname)\n",
    "        print(groupname+\" Pass the test\")\n",
    "    print(\"CXR \"+values[1:]+ \" Corr:\",stats.pearsonr(noNAN[key], noNAN[values]) )"
   ]
  },
  {
   "cell_type": "code",
   "execution_count": 30,
   "metadata": {},
   "outputs": [
    {
     "data": {
      "text/plain": [
       "['ALLData:60-80',\n",
       " 'CXP:60-80',\n",
       " 'CXR:60-80',\n",
       " 'CXR:20-40',\n",
       " 'CXR:80-',\n",
       " 'CXR:Other']"
      ]
     },
     "execution_count": 30,
     "metadata": {},
     "output_type": "execute_result"
    }
   ],
   "source": [
    "Passed"
   ]
  },
  {
   "cell_type": "code",
   "execution_count": 31,
   "metadata": {},
   "outputs": [
    {
     "data": {
      "text/plain": [
       "{'ALLData:Male': 0.5961,\n",
       " 'ALLData:40-60': 0.1939,\n",
       " 'ALLData:60-80': 0.9358,\n",
       " 'ALLData:20-40': 0.8853,\n",
       " 'ALLData:80-': 0.9124,\n",
       " 'ALLData:0-20': 0.7146,\n",
       " 'NIH:Male': 0.3049,\n",
       " 'NIH:40-60': -0.2197,\n",
       " 'NIH:60-80': 0.1165,\n",
       " 'NIH:20-40': 0.3082,\n",
       " 'NIH:80-': 0.1375,\n",
       " 'NIH:0-20': 0.0252,\n",
       " 'CXP:Male': 0.3657,\n",
       " 'CXP:40-60': 0.303,\n",
       " 'CXP:60-80': 0.8528,\n",
       " 'CXP:20-40': 0.5088,\n",
       " 'CXP:80-': 0.7355,\n",
       " 'CXP:0-20': 0.4459,\n",
       " 'CXR:Male': 0.7198,\n",
       " 'CXR:40-60': 0.1848,\n",
       " 'CXR:60-80': 0.7874,\n",
       " 'CXR:20-40': 0.7661,\n",
       " 'CXR:80-': 0.8578,\n",
       " 'CXR:0-20': 0.5974,\n",
       " 'CXR:White': 0.4074,\n",
       " 'CXR:Black': 0.3247,\n",
       " 'CXR:Hisp': 0.553,\n",
       " 'CXR:Other': 0.7816,\n",
       " 'CXR:Asian': -0.4207,\n",
       " 'CXR:Native': 0.5349}"
      ]
     },
     "execution_count": 31,
     "metadata": {},
     "output_type": "execute_result"
    }
   ],
   "source": [
    "correlation"
   ]
  },
  {
   "cell_type": "code",
   "execution_count": 32,
   "metadata": {},
   "outputs": [
    {
     "data": {
      "text/plain": [
       "{'ALLData:Male': 0.1188,\n",
       " 'ALLData:40-60': 0.6454,\n",
       " 'ALLData:60-80': 0.0006,\n",
       " 'ALLData:20-40': 0.0035,\n",
       " 'ALLData:80-': 0.0016,\n",
       " 'ALLData:0-20': 0.0464,\n",
       " 'NIH:Male': 0.2891,\n",
       " 'NIH:40-60': 0.4504,\n",
       " 'NIH:60-80': 0.6917,\n",
       " 'NIH:20-40': 0.3056,\n",
       " 'NIH:80-': 0.6869,\n",
       " 'NIH:0-20': 0.935,\n",
       " 'CXP:Male': 0.1985,\n",
       " 'CXP:40-60': 0.2923,\n",
       " 'CXP:60-80': 0.0001,\n",
       " 'CXP:20-40': 0.0632,\n",
       " 'CXP:80-': 0.0027,\n",
       " 'CXP:0-20': 0.1101,\n",
       " 'CXR:Male': 0.0037,\n",
       " 'CXR:40-60': 0.5270488621686299,\n",
       " 'CXR:60-80': 0.0008281175833247775,\n",
       " 'CXR:20-40': 0.0013975392904852881,\n",
       " 'CXR:80-': 8.721680274463286e-05,\n",
       " 'CXR:0-20': 0.03109554095751364,\n",
       " 'CXR:White': 0.1482,\n",
       " 'CXR:Black': 0.2574,\n",
       " 'CXR:Hisp': 0.0403,\n",
       " 'CXR:Other': 0.001,\n",
       " 'CXR:Asian': 0.1341,\n",
       " 'CXR:Native': 0.1379}"
      ]
     },
     "execution_count": 32,
     "metadata": {},
     "output_type": "execute_result"
    }
   ],
   "source": [
    "P"
   ]
  },
  {
   "cell_type": "markdown",
   "metadata": {},
   "source": [
    "## CXR correlation Insurance"
   ]
  },
  {
   "cell_type": "code",
   "execution_count": 33,
   "metadata": {},
   "outputs": [],
   "source": [
    "WantInsurance_CXR = pd.read_csv(\"./MIMIC/results/WantI.csv\")\n"
   ]
  },
  {
   "cell_type": "code",
   "execution_count": 34,
   "metadata": {},
   "outputs": [
    {
     "data": {
      "text/plain": [
       "0.0015151515151515152"
      ]
     },
     "execution_count": 34,
     "metadata": {},
     "output_type": "execute_result"
    }
   ],
   "source": [
    "Thereshold"
   ]
  },
  {
   "cell_type": "code",
   "execution_count": 35,
   "metadata": {},
   "outputs": [
    {
     "name": "stdout",
     "output_type": "stream",
     "text": [
      "correlation coefficient per subgrpus\n",
      "CXR Medicare Corr: (0.4908009098678523, 0.07474747093487251)\n",
      "CXR Other Corr: (-0.17651141342767285, 0.5460827483519282)\n",
      "CXR Medicaid Corr: (0.47777190919724083, 0.08401777625162991)\n"
     ]
    }
   ],
   "source": [
    "print(\"correlation coefficient per subgrpus\")\n",
    "GAPs = {\"Gap_C_mean\":\"%Medicare\", \"Gap_O_mean\":\"%Other\",\"Gap_A_mean\":\"%Medicaid\"}\n",
    "preferred_name = {\"%M\":\"Male\", \"%American\":\"Native\",\"%Other\":\"%OtherIns.\" }\n",
    "\n",
    "for key, values in GAPs.items():\n",
    "    noNAN = WantInsurance_CXR[[key,values]].dropna(subset=[key])\n",
    "    corr = stats.pearsonr(noNAN[key], noNAN[values])\n",
    "    if values == \"%Other\":\n",
    "        groupname = \"CXR:\"+preferred_name[values]\n",
    "    else:\n",
    "        groupname = \"CXR:\"+values[1:]\n",
    "    correlation[groupname] = round(corr[0],4)\n",
    "    P[groupname] = round(corr[1],4)\n",
    "    if round(corr[1],4) <=Thereshold:\n",
    "        Passed.append(groupname)\n",
    "        print(groupname+\"Passed the test\")\n",
    "    print(\"CXR \"+values[1:]+ \" Corr:\",stats.pearsonr(noNAN[key], noNAN[values]) )"
   ]
  },
  {
   "cell_type": "code",
   "execution_count": 36,
   "metadata": {},
   "outputs": [
    {
     "data": {
      "text/plain": [
       "['ALLData:60-80',\n",
       " 'CXP:60-80',\n",
       " 'CXR:60-80',\n",
       " 'CXR:20-40',\n",
       " 'CXR:80-',\n",
       " 'CXR:Other']"
      ]
     },
     "execution_count": 36,
     "metadata": {},
     "output_type": "execute_result"
    }
   ],
   "source": [
    "Passed"
   ]
  },
  {
   "cell_type": "code",
   "execution_count": 37,
   "metadata": {},
   "outputs": [
    {
     "data": {
      "text/plain": [
       "33"
      ]
     },
     "execution_count": 37,
     "metadata": {},
     "output_type": "execute_result"
    }
   ],
   "source": [
    "len(P)"
   ]
  }
 ],
 "metadata": {
  "kernelspec": {
   "display_name": "f1",
   "language": "python",
   "name": "f1"
  },
  "language_info": {
   "codemirror_mode": {
    "name": "ipython",
    "version": 3
   },
   "file_extension": ".py",
   "mimetype": "text/x-python",
   "name": "python",
   "nbconvert_exporter": "python",
   "pygments_lexer": "ipython3",
   "version": "3.6.8"
  }
 },
 "nbformat": 4,
 "nbformat_minor": 2
}
